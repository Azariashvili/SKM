{
 "cells": [
  {
   "cell_type": "code",
   "execution_count": 112,
   "metadata": {},
   "outputs": [],
   "source": [
    "import numpy as np\n",
    "import math\n",
    "import matplotlib.pyplot as plt\n",
    "import matplotlib as mpl\n",
    "%matplotlib inline\n",
    "from scipy import linalg\n",
    "from scipy import optimize\n",
    "\n",
    "import scipy.linalg as linalg\n",
    "import math as math\n",
    "from scipy.optimize import curve_fit"
   ]
  },
  {
   "cell_type": "markdown",
   "metadata": {},
   "source": [
    "25. Нелинейный метод наименьших квадратов\n",
    "[Ланцош <<Прикладные методы анализа>>]\n",
    "\n",
    "Данные, представленные в таблице, нанесите на график.\n",
    "\n",
    "       x         f(t)    \n",
    " ----------------------\n",
    "    2.5134       0    \n",
    "    2.0443       0.05\n",
    "    1.6684       0.10\n",
    "    1.3664       0.15\n",
    "    1.1232       0.20\n",
    "    0.9269       0.25\n",
    "    0.7679       0.30\n",
    "    0.6389       0.35\n",
    "    0.5338       0.40\n",
    "    0.4479       0.45\n",
    "    0.3776       0.50\n",
    "    0.3197       0.55\n",
    "    0.2720       0.60\n",
    "    0.2325       0.65\n",
    "    0.1997       0.70\n",
    "    0.1723       0.75\n",
    "    0.1493       0.80\n",
    "    0.1301       0.85\n",
    "    0.1138       0.90\n",
    "    0.1000       0.95\n",
    "    0.0883       1.00\n",
    "    0.0783       1.05\n",
    "    0.0698       1.10\n",
    "    0.0624       1.15\n",
    "Нелинейным методом наименьших квадратов аппроксимируйте данные моделью в виде суммы  3  экспонент\n",
    "𝑓(𝑥)=𝛽1𝑒−𝜆1𝑥+𝛽2𝑒−𝜆2𝑥+𝛽3𝑒−𝜆3𝑥,\n",
    " \n",
    "Рассмотрите различные начальные приближения к  𝛽1 ,  𝛽2 ,  𝛽3 ,  𝜆1 ,  𝜆2 , 𝜆3 . Чему равна результирующая суммарная ошибка? Насколько чувствительны результирующие значения к начальным значениям? Как изменится результат, если в модели оставить одну или две экспоненты?"
   ]
  },
  {
   "cell_type": "code",
   "execution_count": 113,
   "metadata": {},
   "outputs": [],
   "source": [
    "x = np.array([2.5134, 2.0443, 1.6684, 1.3664, 1.1232, 0.9269, 0.7679, 0.6389, 0.5338, 0.4479, 0.3776, 0.3197, 0.2720, 0.2325, 0.1997, 0.1723, 0.1493, 0.1301, 0.1138, 0.1000, 0.0883, 0.0783, 0.0698, 0.0624])\n",
    "y = np.array([ 0, 0.05, 0.10, 0.15, 0.20, 0.25, 0.30, 0.35, 0.40, 0.45, 0.50, 0.55, 0.60, 0.65, 0.70, 0.75, 0.80, 0.85, 0.90, 0.95, 1.00, 1.05, 1.10, 1.15])"
   ]
  },
  {
   "cell_type": "code",
   "execution_count": 114,
   "metadata": {},
   "outputs": [
    {
     "data": {
      "image/png": "[encoded data removed]",
      "text/plain": [
       "<Figure size 432x288 with 1 Axes>"
      ]
     },
     "metadata": {
      "needs_background": "light"
     },
     "output_type": "display_data"
    }
   ],
   "source": [
    "plt.plot(x, y, 'o')\n",
    "plt.grid()\n",
    "pass"
   ]
  },
  {
   "cell_type": "code",
   "execution_count": 115,
   "metadata": {},
   "outputs": [],
   "source": [
    "def funct(x, b1, b2, b3, a1, a2, a3):\n",
    "    return b1*np.exp(math.e ** (-a1*x)) + b2*np.exp(math.e ** (-a2*x)) + b3*np.exp(math.e ** (-a3*x))\n"
   ]
  },
  {
   "cell_type": "code",
   "execution_count": 116,
   "metadata": {},
   "outputs": [
    {
     "name": "stderr",
     "output_type": "stream",
     "text": [
      "C:\\Users\\azari\\anaconda3\\lib\\site-packages\\ipykernel_launcher.py:2: RuntimeWarning: overflow encountered in power\n",
      "  \n",
      "C:\\Users\\azari\\anaconda3\\lib\\site-packages\\ipykernel_launcher.py:2: RuntimeWarning: overflow encountered in exp\n",
      "  \n"
     ]
    },
    {
     "data": {
      "text/plain": [
       "(-0.3034846268063177,\n",
       " 0.5737604379388415,\n",
       " 0.44015926589723836,\n",
       " -0.07848534681881937,\n",
       " 13.51692086716162,\n",
       " 1.508734168480747)"
      ]
     },
     "execution_count": 116,
     "metadata": {},
     "output_type": "execute_result"
    }
   ],
   "source": [
    "res, _ = optimize.curve_fit(funct,x,y)\n",
    "b1, b2, b3, a1, a2, a3 = res\n",
    "b1, b2, b3, a1, a2, a3"
   ]
  },
  {
   "cell_type": "code",
   "execution_count": 123,
   "metadata": {},
   "outputs": [
    {
     "data": {
      "image/png": "[encoded data removed]",
      "text/plain": [
       "<Figure size 432x288 with 1 Axes>"
      ]
     },
     "metadata": {
      "needs_background": "light"
     },
     "output_type": "display_data"
    }
   ],
   "source": [
    "xx = np.linspace(np.min(x), np.max(x), 10)\n",
    "yy = funct(xx,b1,b2,b3,a1,a2,a3)\n",
    "plt.plot(x, y, '.', color='tab:red')\n",
    "plt.plot(xx, yy)\n",
    "plt.grid()\n",
    "pass"
   ]
  },
  {
   "cell_type": "code",
   "execution_count": 127,
   "metadata": {},
   "outputs": [],
   "source": [
    "def mnkGP(x,y):\n",
    "    n=len(x)\n",
    "    Y=[a1+b1/x[i] for i in range(0,n)]\n",
    "    so=round(sum([abs(y[i] -Y[i]) for i in range(0,n)])/(n*sum(y))*100,3) \n",
    "    plt.title('Аппроксимация в виде суммы 3 экспонент f(x)=' + b1*np.exp(math.e ** (-a1*x)) + '+' + b2*np.exp(math.e ** (-a2*x)) + '+' + b3*np.exp(math.e ** (-a3*x))+ '\\n Средняя ошибка--' +str(so)+'%', size=10)\n",
    "    plt.xlabel('Координата X', size=14)\n",
    "    plt.ylabel('Координата Y', size=14)\n",
    "    plt.plot(x, y, color='r', linestyle=' ', marker='o', label='Data(x,y)')\n",
    "    plt.plot(x, s4, color='g', linewidth=2, label='Data(x,f(x)=a+b/x')\n",
    "    plt.legend(loc='best')\n",
    "    plt.grid(True)\n",
    "    plt.show()\n",
    "    mnkGP(x,y)"
   ]
  },
  {
   "cell_type": "code",
   "execution_count": null,
   "metadata": {},
   "outputs": [],
   "source": []
  }
 ],
 "metadata": {
  "kernelspec": {
   "display_name": "Python 3",
   "language": "python",
   "name": "python3"
  },
  "language_info": {
   "codemirror_mode": {
    "name": "ipython",
    "version": 3
   },
   "file_extension": ".py",
   "mimetype": "text/x-python",
   "name": "python",
   "nbconvert_exporter": "python",
   "pygments_lexer": "ipython3",
   "version": "3.7.6"
  }
 },
 "nbformat": 4,
 "nbformat_minor": 4
}
