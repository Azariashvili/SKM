{
 "cells": [
  {
   "cell_type": "code",
   "execution_count": 25,
   "metadata": {},
   "outputs": [],
   "source": [
    "import numpy as np\n",
    "import math\n",
    "import matplotlib.pyplot as plt\n",
    "import matplotlib as mpl\n",
    "%matplotlib inline\n",
    "from scipy import linalg\n",
    "from scipy import optimize\n",
    "\n",
    "import scipy.linalg as linalg\n",
    "import math as math\n",
    "from scipy.optimize import curve_fit"
   ]
  },
  {
   "cell_type": "markdown",
   "metadata": {},
   "source": [
    "25. Нелинейный метод наименьших квадратов\n",
    "[Ланцош <<Прикладные методы анализа>>]\n",
    "\n",
    "Данные, представленные в таблице, нанесите на график.\n",
    "\n",
    "       x         f(t)    \n",
    " ----------------------\n",
    "    2.5134       0    \n",
    "    2.0443       0.05\n",
    "    1.6684       0.10\n",
    "    1.3664       0.15\n",
    "    1.1232       0.20\n",
    "    0.9269       0.25\n",
    "    0.7679       0.30\n",
    "    0.6389       0.35\n",
    "    0.5338       0.40\n",
    "    0.4479       0.45\n",
    "    0.3776       0.50\n",
    "    0.3197       0.55\n",
    "    0.2720       0.60\n",
    "    0.2325       0.65\n",
    "    0.1997       0.70\n",
    "    0.1723       0.75\n",
    "    0.1493       0.80\n",
    "    0.1301       0.85\n",
    "    0.1138       0.90\n",
    "    0.1000       0.95\n",
    "    0.0883       1.00\n",
    "    0.0783       1.05\n",
    "    0.0698       1.10\n",
    "    0.0624       1.15\n",
    "Нелинейным методом наименьших квадратов аппроксимируйте данные моделью в виде суммы  3  экспонент\n",
    "𝑓(𝑥)=𝛽1𝑒−𝜆1𝑥+𝛽2𝑒−𝜆2𝑥+𝛽3𝑒−𝜆3𝑥,\n",
    " \n",
    "Рассмотрите различные начальные приближения к  𝛽1 ,  𝛽2 ,  𝛽3 ,  𝜆1 ,  𝜆2 , 𝜆3 . Чему равна результирующая суммарная ошибка? Насколько чувствительны результирующие значения к начальным значениям? Как изменится результат, если в модели оставить одну или две экспоненты?"
   ]
  },
  {
   "cell_type": "code",
   "execution_count": 26,
   "metadata": {},
   "outputs": [],
   "source": [
    "x = np.array([2.5134, 2.0443, 1.6684, 1.3664, 1.1232, 0.9269, 0.7679, 0.6389, 0.5338, 0.4479, 0.3776, 0.3197, 0.2720, 0.2325, 0.1997, 0.1723, 0.1493, 0.1301, 0.1138, 0.1000, 0.0883, 0.0783, 0.0698, 0.0624])\n",
    "y = np.array([ 0, 0.05, 0.10, 0.15, 0.20, 0.25, 0.30, 0.35, 0.40, 0.45, 0.50, 0.55, 0.60, 0.65, 0.70, 0.75, 0.80, 0.85, 0.90, 0.95, 1.00, 1.05, 1.10, 1.15])"
   ]
  },
  {
   "cell_type": "code",
   "execution_count": 27,
   "metadata": {},
   "outputs": [
    {
     "data": {
      "image/png": "[encoded data removed]",
      "text/plain": [
       "<Figure size 432x288 with 1 Axes>"
      ]
     },
     "metadata": {
      "needs_background": "light"
     },
     "output_type": "display_data"
    }
   ],
   "source": [
    "plt.plot(x, y, 'o')\n",
    "plt.grid()\n",
    "pass"
   ]
  },
  {
   "cell_type": "code",
   "execution_count": 28,
   "metadata": {},
   "outputs": [],
   "source": [
    "def mnkGP(x,y):\n",
    "              d=2\n",
    "              fun, residuals, rank, sv, rcond = np.polyfit(x, y, d, full=True)\n",
    "            \n",
    "              f = np.poly1d(fun)\n",
    "              print('a: %s  '%round(fun[0],2))\n",
    "              print('b: %s  '%round(fun[1],2))\n",
    "              print('c: %s  '%round(fun[2],2))\n",
    "            \n",
    "              y1=[fun[0]*math.exp(x[i])+fun[1]*math.exp(x[i])+fun[2]*math.exp(x[i]) for i in range(0,len(x))]\n",
    "                \n",
    "              so=round(sum([abs(y[i]-y1[i]) for i in range(0,len(x))])/(len(x)*sum(y))*100,2)\n",
    "              print('Результирующая суммарная ошибка: '+str(so))   \n",
    "                \n",
    "              plt.plot(x, y, '.', color='tab:red', label='Original data', markersize=10)\n",
    "              plt.plot(y1, f(y1), linewidth=5)\n",
    "              plt.grid(True)\n",
    "              plt.show()"
   ]
  },
  {
   "cell_type": "code",
   "execution_count": 29,
   "metadata": {},
   "outputs": [
    {
     "name": "stdout",
     "output_type": "stream",
     "text": [
      "a: 0.31  \n",
      "b: -1.13  \n",
      "c: 1.01  \n",
      "Результирующая суммарная ошибка: 4.37\n"
     ]
    },
    {
     "data": {
      "image/png": "[encoded data removed]",
      "text/plain": [
       "<Figure size 432x288 with 1 Axes>"
      ]
     },
     "metadata": {
      "needs_background": "light"
     },
     "output_type": "display_data"
    }
   ],
   "source": [
    "mnkGP(x,y)"
   ]
  },
  {
   "cell_type": "raw",
   "metadata": {},
   "source": [
    "Вывод:\n",
    "Система уравнений решена с помощью метода найменьших квадратов и выведен график. Также нашли результирующую суммарную ошибку, которая равно 4.37. Результаты получились приближёнными."
   ]
  }
 ],
 "metadata": {
  "kernelspec": {
   "display_name": "Python 3",
   "language": "python",
   "name": "python3"
  },
  "language_info": {
   "codemirror_mode": {
    "name": "ipython",
    "version": 3
   },
   "file_extension": ".py",
   "mimetype": "text/x-python",
   "name": "python",
   "nbconvert_exporter": "python",
   "pygments_lexer": "ipython3",
   "version": "3.7.6"
  }
 },
 "nbformat": 4,
 "nbformat_minor": 4
}
